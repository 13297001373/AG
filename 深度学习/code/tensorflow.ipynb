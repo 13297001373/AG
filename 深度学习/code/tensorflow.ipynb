{
 "cells": [
  {
   "cell_type": "raw",
   "metadata": {},
   "source": [
    "目标：\n",
    "    1.初始化变量\n",
    "    2.建立一个回话\n",
    "    3.训练一个算法\n",
    "    4.实现一个神经网络"
   ]
  },
  {
   "cell_type": "raw",
   "metadata": {},
   "source": [
    "1.导入相关的库"
   ]
  },
  {
   "cell_type": "code",
   "execution_count": 1,
   "metadata": {},
   "outputs": [],
   "source": [
    "import numpy as np\n",
    "import h5py\n",
    "import matplotlib.pyplot as plt\n",
    "import tensorflow as tf\n",
    "from tensorflow.python.framework import ops\n",
    "import tf_utils\n",
    "import time"
   ]
  },
  {
   "cell_type": "code",
   "execution_count": 2,
   "metadata": {},
   "outputs": [
    {
     "name": "stdout",
     "output_type": "stream",
     "text": [
      "9\n"
     ]
    }
   ],
   "source": [
    "y_hat = tf.constant(36,name='y_hat')\n",
    "y = tf.constant(39,name='y')\n",
    "\n",
    "loss = tf.Variable((y-y_hat)**2,name='loss')\n",
    "\n",
    "init = tf.global_variables_initializer()\n",
    "\n",
    "with tf.Session() as session:\n",
    "    session.run(init)\n",
    "    print(session.run(loss))\n"
   ]
  },
  {
   "cell_type": "raw",
   "metadata": {},
   "source": [
    "Tensorflow的代码实现过程如下：\n",
    "1.创建Tensorflow变量\n",
    "2.实现变量之间的相关操作\n",
    "3.初始化变量\n",
    "4.创建session\n",
    "5.运行session，此时，之前编写的操作都在这一步完成"
   ]
  },
  {
   "cell_type": "code",
   "execution_count": 3,
   "metadata": {},
   "outputs": [
    {
     "name": "stdout",
     "output_type": "stream",
     "text": [
      "Tensor(\"Mul:0\", shape=(), dtype=int32)\n"
     ]
    }
   ],
   "source": [
    "a = tf.constant(2,name='x')\n",
    "b = tf.constant(3,name='y')\n",
    "c = tf.multiply(a,b)\n",
    "print(c)"
   ]
  },
  {
   "cell_type": "code",
   "execution_count": 4,
   "metadata": {},
   "outputs": [
    {
     "data": {
      "text/plain": [
       "6"
      ]
     },
     "execution_count": 4,
     "metadata": {},
     "output_type": "execute_result"
    }
   ],
   "source": [
    "sess = tf.Session()\n",
    "sess.run(c)"
   ]
  },
  {
   "cell_type": "raw",
   "metadata": {},
   "source": [
    "总结一下，记得初始化变量，然后创建一个session来运行它。 \n",
    "  接下来，我们需要了解一下占位符（placeholders）。占位符是一个对象，它的值只能在稍后指定，要指定占位符的值，可以使用一个feed字典（feed_dict变量）来传入，接下来，我们为x创建一个占位符，这将允许我们在稍后运行会话时传入一个数字。"
   ]
  },
  {
   "cell_type": "code",
   "execution_count": 5,
   "metadata": {},
   "outputs": [
    {
     "name": "stdout",
     "output_type": "stream",
     "text": [
      "20\n"
     ]
    }
   ],
   "source": [
    "x = tf.placeholder(tf.int64,name='x')\n",
    "print(sess.run(2*x,feed_dict={x:10}))\n",
    "sess.close()"
   ]
  },
  {
   "cell_type": "raw",
   "metadata": {},
   "source": [
    "当我们第一次定义x时，我们不必为它指定一个值。 占位符只是一个变量，我们会在运行会话时将数据分配给它。"
   ]
  },
  {
   "cell_type": "markdown",
   "metadata": {},
   "source": [
    "# 1.1 - 线性函数"
   ]
  },
  {
   "cell_type": "raw",
   "metadata": {},
   "source": [
    "让我们通过计算以下等式来开始编程：Y=WX+bY=WX+b ,W和X是随机矩阵，b是随机向量。 \n",
    "  我们计算WX+bWX+b，其中W，XX和bb是从随机正态分布中抽取的。 W的维度是（4,3），X是（3,1），b是（4,1）。 我们开始定义一个shape=（3,1）的常量X："
   ]
  },
  {
   "cell_type": "code",
   "execution_count": 6,
   "metadata": {},
   "outputs": [],
   "source": [
    "def linear_function():\n",
    "    W = np.random.rand(4,3)\n",
    "    b = np.random.rand(4,1)\n",
    "    x = np.random.rand(3,1)\n",
    "    \n",
    "    y = tf.add(tf.matmul(W,x),b)\n",
    "    \n",
    "    sess = tf.Session()\n",
    "    result = sess.run(y)\n",
    "    sess.close()\n",
    "    return result"
   ]
  },
  {
   "cell_type": "code",
   "execution_count": 7,
   "metadata": {},
   "outputs": [
    {
     "name": "stdout",
     "output_type": "stream",
     "text": [
      "result: [[1.36624357]\n",
      " [0.7684199 ]\n",
      " [1.31599916]\n",
      " [0.85119941]]\n"
     ]
    }
   ],
   "source": [
    "print('result:',linear_function())"
   ]
  },
  {
   "cell_type": "markdown",
   "metadata": {},
   "source": [
    "# 2.sigmoid函数"
   ]
  },
  {
   "cell_type": "code",
   "execution_count": 8,
   "metadata": {},
   "outputs": [],
   "source": [
    "def sigmoid(z):\n",
    "    x = tf.placeholder(tf.float32,name='x')\n",
    "    \n",
    "    sigmoid = tf.sigmoid(x)\n",
    "    \n",
    "    sess = tf.Session()\n",
    "    \n",
    "    result = sess.run(sigmoid,feed_dict={x:z})\n",
    "    return result"
   ]
  },
  {
   "cell_type": "code",
   "execution_count": 9,
   "metadata": {},
   "outputs": [
    {
     "data": {
      "text/plain": [
       "0.5"
      ]
     },
     "execution_count": 9,
     "metadata": {},
     "output_type": "execute_result"
    }
   ],
   "source": [
    "sigmoid(0)"
   ]
  },
  {
   "cell_type": "markdown",
   "metadata": {},
   "source": [
    "# 1.3 计算成本"
   ]
  },
  {
   "cell_type": "raw",
   "metadata": {},
   "source": [
    "实现成本函数，需要用到的是： \n",
    "tf.nn.sigmoid_cross_entropy_with_logits(logits = ..., labels = ...)"
   ]
  },
  {
   "cell_type": "markdown",
   "metadata": {},
   "source": [
    "# 1.4 one-hot编码"
   ]
  },
  {
   "cell_type": "raw",
   "metadata": {},
   "source": [
    "tf.one_hot(labels,depth,axis)"
   ]
  },
  {
   "cell_type": "code",
   "execution_count": 10,
   "metadata": {},
   "outputs": [],
   "source": [
    "def one_hot_matrix(lables,C):\n",
    "    \n",
    "    C = tf.constant(C,name='C')  #可写可不写\n",
    "    \n",
    "    one_hot_matrix =tf.one_hot(indices=lables,depth=C,axis=0)\n",
    "    \n",
    "    sess = tf.Session()\n",
    "    \n",
    "    one_hot = sess.run(one_hot_matrix)\n",
    "    \n",
    "    sess.close()\n",
    "    return one_hot"
   ]
  },
  {
   "cell_type": "code",
   "execution_count": 22,
   "metadata": {},
   "outputs": [
    {
     "data": {
      "text/plain": [
       "(array([[0., 0., 0., 1., 0., 0.],\n",
       "        [1., 0., 0., 0., 0., 1.],\n",
       "        [0., 1., 0., 0., 1., 0.],\n",
       "        [0., 0., 1., 0., 0., 0.]], dtype=float32), array([1, 2, 3, 0, 2, 1]))"
      ]
     },
     "execution_count": 22,
     "metadata": {},
     "output_type": "execute_result"
    }
   ],
   "source": [
    "labels = np.array([1,2,3,0,2,1])\n",
    "one_hot_matrix(labels,4)"
   ]
  },
  {
   "cell_type": "markdown",
   "metadata": {},
   "source": [
    "# 1.5 - 初始化为0和1"
   ]
  },
  {
   "cell_type": "code",
   "execution_count": 12,
   "metadata": {},
   "outputs": [],
   "source": [
    "def ones(shape):\n",
    "    shape = tf.constant(shape,name='shape')\n",
    "    ones = tf.ones(shape)\n",
    "    \n",
    "    sess = tf.Session()\n",
    "    ones = sess.run(ones)\n",
    "    sess.close()\n",
    "    return ones"
   ]
  },
  {
   "cell_type": "code",
   "execution_count": 13,
   "metadata": {},
   "outputs": [
    {
     "data": {
      "text/plain": [
       "array([1., 1.], dtype=float32)"
      ]
     },
     "execution_count": 13,
     "metadata": {},
     "output_type": "execute_result"
    }
   ],
   "source": [
    "ones(2)"
   ]
  },
  {
   "cell_type": "markdown",
   "metadata": {},
   "source": [
    "# 2 - 使用TensorFlow构建你的第一个神经网络"
   ]
  },
  {
   "cell_type": "raw",
   "metadata": {},
   "source": [
    "我们将会使用TensorFlow构建一个神经网络，需要记住的是实现模型需要做以下两个步骤： \n",
    "1. 创建计算图 \n",
    "2. 运行计算图"
   ]
  },
  {
   "cell_type": "code",
   "execution_count": 14,
   "metadata": {},
   "outputs": [
    {
     "data": {
      "text/plain": [
       "((1080, 64, 64, 3), (1, 1080))"
      ]
     },
     "execution_count": 14,
     "metadata": {},
     "output_type": "execute_result"
    }
   ],
   "source": [
    "import tf_utils\n",
    "##1.加载数据\n",
    "X_train_orig,Y_train_orig,X_test_orig,Y_test_orig,classes = tf_utils.load_dataset()\n",
    "X_train_orig.shape,Y_train_orig.shape"
   ]
  },
  {
   "cell_type": "code",
   "execution_count": 15,
   "metadata": {},
   "outputs": [
    {
     "data": {
      "text/plain": [
       "<matplotlib.image.AxesImage at 0x15943eb8>"
      ]
     },
     "execution_count": 15,
     "metadata": {},
     "output_type": "execute_result"
    },
    {
     "data": {
      "image/png": "[encoded data removed]",
      "text/plain": [
       "<matplotlib.figure.Figure at 0x158da5c0>"
      ]
     },
     "metadata": {},
     "output_type": "display_data"
    }
   ],
   "source": [
    "index = 20\n",
    "plt.imshow(X_train_orig[index])"
   ]
  },
  {
   "cell_type": "raw",
   "metadata": {},
   "source": [
    "处理：1.数据扁平化\n",
    "     2.one-hot编码"
   ]
  },
  {
   "cell_type": "code",
   "execution_count": 27,
   "metadata": {},
   "outputs": [],
   "source": [
    "def one_hot(labels,C):\n",
    "    C = tf.constant(C,name = 'C')\n",
    "    \n",
    "    result = tf.one_hot(indices=labels,depth=C,axis=0)\n",
    "    sess = tf.Session()\n",
    "    result = sess.run(result)\n",
    "    result = result.reshape(6,-1)\n",
    "    sess.close()\n",
    "    return result"
   ]
  },
  {
   "cell_type": "code",
   "execution_count": 28,
   "metadata": {},
   "outputs": [
    {
     "name": "stdout",
     "output_type": "stream",
     "text": [
      "<built-in method ravel of numpy.ndarray object at 0x00000000158D7E90>\n"
     ]
    },
    {
     "data": {
      "text/plain": [
       "(6, 1080)"
      ]
     },
     "execution_count": 28,
     "metadata": {},
     "output_type": "execute_result"
    }
   ],
   "source": [
    "print(Y_train_orig.ravel)\n",
    "one_hot(Y_train_orig,6).shape"
   ]
  },
  {
   "cell_type": "code",
   "execution_count": 29,
   "metadata": {},
   "outputs": [
    {
     "name": "stdout",
     "output_type": "stream",
     "text": [
      "训练集样本数 = 1080\n",
      "测试集样本数 = 120\n",
      "X_train.shape: (12288, 1080)\n",
      "Y_train.shape: (6, 1080)\n",
      "X_test.shape: (12288, 120)\n",
      "Y_test.shape: (6, 120)\n"
     ]
    }
   ],
   "source": [
    "X_train_flatten = X_train_orig.reshape(X_train_orig.shape[0],-1).T\n",
    "X_test_flatten = X_test_orig.reshape(X_test_orig.shape[0],-1).T\n",
    "\n",
    "##数据扁平化处理\n",
    "X_train = X_train_flatten/255\n",
    "X_test= X_test_flatten/255\n",
    "\n",
    "##转化为one-hot编码\n",
    "Y_train = one_hot(Y_train_orig,6)\n",
    "Y_test = one_hot(Y_test_orig,6)\n",
    "\n",
    "print(\"训练集样本数 = \" + str(X_train.shape[1]))\n",
    "print(\"测试集样本数 = \" + str(X_test.shape[1]))\n",
    "print(\"X_train.shape: \" + str(X_train.shape))\n",
    "print(\"Y_train.shape: \" + str(Y_train.shape))\n",
    "print(\"X_test.shape: \" + str(X_test.shape))\n",
    "print(\"Y_test.shape: \" + str(Y_test.shape))"
   ]
  },
  {
   "cell_type": "code",
   "execution_count": null,
   "metadata": {},
   "outputs": [],
   "source": []
  },
  {
   "cell_type": "code",
   "execution_count": null,
   "metadata": {},
   "outputs": [],
   "source": []
  }
 ],
 "metadata": {
  "kernelspec": {
   "display_name": "Python 3",
   "language": "python",
   "name": "python3"
  },
  "language_info": {
   "codemirror_mode": {
    "name": "ipython",
    "version": 3
   },
   "file_extension": ".py",
   "mimetype": "text/x-python",
   "name": "python",
   "nbconvert_exporter": "python",
   "pygments_lexer": "ipython3",
   "version": "3.6.4"
  }
 },
 "nbformat": 4,
 "nbformat_minor": 2
}
